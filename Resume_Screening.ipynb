{
  "nbformat": 4,
  "nbformat_minor": 5,
  "metadata": {
    "kernelspec": {
      "display_name": "Python 3",
      "language": "python",
      "name": "python3"
    },
    "language_info": {
      "codemirror_mode": {
        "name": "ipython",
        "version": 3
      },
      "file_extension": ".py",
      "mimetype": "text/x-python",
      "name": "python",
      "nbconvert_exporter": "python",
      "pygments_lexer": "ipython3",
      "version": "3.9.5"
    },
    "toc": {
      "base_numbering": 1,
      "nav_menu": {},
      "number_sections": true,
      "sideBar": true,
      "skip_h1_title": false,
      "title_cell": "Table of Contents",
      "title_sidebar": "Contents",
      "toc_cell": false,
      "toc_position": {},
      "toc_section_display": true,
      "toc_window_display": false
    },
    "varInspector": {
      "cols": {
        "lenName": 16,
        "lenType": 16,
        "lenVar": 40
      },
      "kernels_config": {
        "python": {
          "delete_cmd_postfix": "",
          "delete_cmd_prefix": "del ",
          "library": "var_list.py",
          "varRefreshCmd": "print(var_dic_list())"
        },
        "r": {
          "delete_cmd_postfix": ") ",
          "delete_cmd_prefix": "rm(",
          "library": "var_list.r",
          "varRefreshCmd": "cat(var_dic_list()) "
        }
      },
      "types_to_exclude": [
        "module",
        "function",
        "builtin_function_or_method",
        "instance",
        "_Feature"
      ],
      "window_display": false
    },
    "colab": {
      "name": "Resume_Screening.ipynb",
      "provenance": []
    }
  },
  "cells": [
    {
      "cell_type": "code",
      "metadata": {
        "id": "rgsV75R6kz7u"
      },
      "source": [
        "# Installing Libraries not present\n",
        "#!pip install textract"
      ],
      "id": "rgsV75R6kz7u",
      "execution_count": 271,
      "outputs": []
    },
    {
      "cell_type": "markdown",
      "metadata": {
        "id": "cPufmKfRGWad"
      },
      "source": [
        "## **Resume Screening**"
      ],
      "id": "cPufmKfRGWad"
    },
    {
      "cell_type": "markdown",
      "metadata": {
        "id": "h6XYkUMpGhUW"
      },
      "source": [
        "In an organization, hiring resources is an important part for the growth of an organization. The career portal will usually list out different job openings. Individual candidates and third party consultancy will be uploading numerous resumes for each job profile.\n",
        "\n",
        "However, for the hiring comititee, going through each of the resume and selecting the candidate for interview is a tedious manual process.\n",
        "\n",
        "Till date, hiring team has been assigning matching percentage to the candidate's resume according to the match to the exact job description (JD). However, going through each resume is still a time taking process.\n",
        "\n",
        "In this project, we introduce a ML model, which can extract text from resume and will predict the match percentage with respect to the JD."
      ],
      "id": "h6XYkUMpGhUW"
    },
    {
      "cell_type": "code",
      "metadata": {
        "id": "b3ddb5dc"
      },
      "source": [
        "import PyPDF2\n",
        "import pdfplumber\n",
        "import textract\n",
        "import re\n",
        "import string\n",
        "import pandas as pd\n",
        "import numpy as np\n",
        "import re\n",
        "from sklearn.metrics  import accuracy_score, confusion_matrix\n",
        "from sklearn.model_selection import cross_validate, cross_val_score\n",
        "import seaborn as sns\n",
        "from nltk.corpus import stopwords"
      ],
      "id": "b3ddb5dc",
      "execution_count": 272,
      "outputs": []
    },
    {
      "cell_type": "markdown",
      "metadata": {
        "id": "t1DnXeb2Gyf6"
      },
      "source": [
        "####Connecting to Google Drive to access the datasets####"
      ],
      "id": "t1DnXeb2Gyf6"
    },
    {
      "cell_type": "code",
      "metadata": {
        "colab": {
          "base_uri": "https://localhost:8080/"
        },
        "id": "nzj9SE9Cjb9N",
        "outputId": "e5ddb151-8385-45b7-b503-d11f9169e815"
      },
      "source": [
        "from google.colab import drive\n",
        "drive.mount('/content/drive')"
      ],
      "id": "nzj9SE9Cjb9N",
      "execution_count": 1,
      "outputs": [
        {
          "output_type": "stream",
          "name": "stdout",
          "text": [
            "Mounted at /content/drive\n"
          ]
        }
      ]
    },
    {
      "cell_type": "markdown",
      "metadata": {
        "id": "Z6s8JDR-HGkv"
      },
      "source": [
        "####Reading the contents of the training dataset and storing in pandas dataframe####"
      ],
      "id": "Z6s8JDR-HGkv"
    },
    {
      "cell_type": "code",
      "metadata": {
        "colab": {
          "base_uri": "https://localhost:8080/",
          "height": 204
        },
        "id": "47f0162c",
        "outputId": "59ca8f85-6042-41f6-9d7f-0e8727218d78"
      },
      "source": [
        "df = pd.read_csv('/content/drive/MyDrive/My Projects/Resume_Screening/dataset/train.csv')\n",
        "df.head()"
      ],
      "id": "47f0162c",
      "execution_count": 274,
      "outputs": [
        {
          "output_type": "execute_result",
          "data": {
            "text/html": [
              "<div>\n",
              "<style scoped>\n",
              "    .dataframe tbody tr th:only-of-type {\n",
              "        vertical-align: middle;\n",
              "    }\n",
              "\n",
              "    .dataframe tbody tr th {\n",
              "        vertical-align: top;\n",
              "    }\n",
              "\n",
              "    .dataframe thead th {\n",
              "        text-align: right;\n",
              "    }\n",
              "</style>\n",
              "<table border=\"1\" class=\"dataframe\">\n",
              "  <thead>\n",
              "    <tr style=\"text-align: right;\">\n",
              "      <th></th>\n",
              "      <th>CandidateID</th>\n",
              "      <th>Match Percentage</th>\n",
              "    </tr>\n",
              "  </thead>\n",
              "  <tbody>\n",
              "    <tr>\n",
              "      <th>0</th>\n",
              "      <td>candidate_011</td>\n",
              "      <td>13.60</td>\n",
              "    </tr>\n",
              "    <tr>\n",
              "      <th>1</th>\n",
              "      <td>candidate_113</td>\n",
              "      <td>36.63</td>\n",
              "    </tr>\n",
              "    <tr>\n",
              "      <th>2</th>\n",
              "      <td>candidate_123</td>\n",
              "      <td>54.93</td>\n",
              "    </tr>\n",
              "    <tr>\n",
              "      <th>3</th>\n",
              "      <td>candidate_012</td>\n",
              "      <td>41.46</td>\n",
              "    </tr>\n",
              "    <tr>\n",
              "      <th>4</th>\n",
              "      <td>candidate_002</td>\n",
              "      <td>48.91</td>\n",
              "    </tr>\n",
              "  </tbody>\n",
              "</table>\n",
              "</div>"
            ],
            "text/plain": [
              "     CandidateID  Match Percentage\n",
              "0  candidate_011             13.60\n",
              "1  candidate_113             36.63\n",
              "2  candidate_123             54.93\n",
              "3  candidate_012             41.46\n",
              "4  candidate_002             48.91"
            ]
          },
          "metadata": {},
          "execution_count": 274
        }
      ]
    },
    {
      "cell_type": "code",
      "metadata": {
        "colab": {
          "base_uri": "https://localhost:8080/"
        },
        "id": "8LZ_a1tf31Ui",
        "outputId": "dca1a814-6d07-4a1f-a061-2137c55114b6"
      },
      "source": [
        "# Shape of dataframe\n",
        "df.shape"
      ],
      "id": "8LZ_a1tf31Ui",
      "execution_count": 275,
      "outputs": [
        {
          "output_type": "execute_result",
          "data": {
            "text/plain": [
              "(90, 2)"
            ]
          },
          "metadata": {},
          "execution_count": 275
        }
      ]
    },
    {
      "cell_type": "code",
      "metadata": {
        "colab": {
          "base_uri": "https://localhost:8080/"
        },
        "id": "7c-6Sorf4PKU",
        "outputId": "a3d412b0-15ec-4613-f3a7-44b7785087c3"
      },
      "source": [
        "# Number of unique candidates Ids\n",
        "df.CandidateID.nunique()"
      ],
      "id": "7c-6Sorf4PKU",
      "execution_count": 276,
      "outputs": [
        {
          "output_type": "execute_result",
          "data": {
            "text/plain": [
              "90"
            ]
          },
          "metadata": {},
          "execution_count": 276
        }
      ]
    },
    {
      "cell_type": "markdown",
      "metadata": {
        "id": "f_rFi9p8HRRc"
      },
      "source": [
        "####Analyzing the distribution of the label - Match Percentage####"
      ],
      "id": "f_rFi9p8HRRc"
    },
    {
      "cell_type": "code",
      "metadata": {
        "colab": {
          "base_uri": "https://localhost:8080/",
          "height": 386
        },
        "id": "IHWVd-PBdVrl",
        "outputId": "0eb84f3d-5940-4702-a0ef-0e0b6d430e28"
      },
      "source": [
        "# Analyzing the Match Percentage\n",
        "sns.displot(data=df['Match Percentage'])"
      ],
      "id": "IHWVd-PBdVrl",
      "execution_count": 277,
      "outputs": [
        {
          "output_type": "execute_result",
          "data": {
            "text/plain": [
              "<seaborn.axisgrid.FacetGrid at 0x7f27a9f14b50>"
            ]
          },
          "metadata": {},
          "execution_count": 277
        },
        {
          "output_type": "display_data",
          "data": {
            "image/png": "[encoded data removed]",
            "text/plain": [
              "<Figure size 360x360 with 1 Axes>"
            ]
          },
          "metadata": {
            "needs_background": "light"
          }
        }
      ]
    },
    {
      "cell_type": "markdown",
      "metadata": {
        "id": "7hmf6XeIHaHt"
      },
      "source": [
        "####Function to Extract Text from PDF for all train candidates####\n",
        "Following Clean up activity on the extracted text:-\n",
        "1. Removal of numbers\n",
        "2. Removal of extra white space\n",
        "3. Removal of urls\n",
        "4. Removal of hashtags, mentions, RT, cc\n",
        "5. Removal of punctuations\n",
        "6. Converting all characters to lower case"
      ],
      "id": "7hmf6XeIHaHt"
    },
    {
      "cell_type": "code",
      "metadata": {
        "id": "3acb4685"
      },
      "source": [
        "# Function to extract text from resume\n",
        "\n",
        "def extract_resume_text(cand_id=None):\n",
        "    if cand_id is None:\n",
        "      pdfname = extract_path\n",
        "    else:\n",
        "      pdfname = extract_path + cand_id + '.pdf'\n",
        "\n",
        "    with pdfplumber.open(pdfname) as pdf:\n",
        "        first_page = pdf.pages[0]\n",
        "        text = first_page.extract_text()    \n",
        "\n",
        "    text = text.lower()\n",
        "    text = re.sub(r'\\d+','',text)\n",
        "    text = re.sub(r'\\n',' ',text)\n",
        "    text = re.sub('http\\S+\\s*', ' ', text)  # remove URLs\n",
        "    text = re.sub('RT|cc', ' ', text)  # remove RT and cc\n",
        "    text = re.sub('#\\S+', '', text)  # remove hashtags\n",
        "    text = re.sub('@\\S+', '  ', text)  # remove mentions\n",
        "    text = re.sub('[%s]' % re.escape(\"\"\"!\"#$%&'()*+,-./:;<=>?@[\\]^_`{|}~\"\"\"), ' ', text)  # remove punctuations\n",
        "    text = re.sub(r'[^\\x00-\\x7f]',r' ', text) \n",
        "    text = re.sub('\\s+', ' ', text)  # remove extra whitespace\n",
        "\n",
        "    return text"
      ],
      "id": "3acb4685",
      "execution_count": 278,
      "outputs": []
    },
    {
      "cell_type": "markdown",
      "metadata": {
        "id": "D0djIZAmIEkH"
      },
      "source": [
        "####Removal of Stop words from the extracted text####"
      ],
      "id": "D0djIZAmIEkH"
    },
    {
      "cell_type": "code",
      "metadata": {
        "id": "I-BIVrlj1TMW"
      },
      "source": [
        "#import nltk\n",
        "#nltk.download('stopwords')\n",
        "extract_path = r'/content/drive/MyDrive/My Projects/Resume_Screening/dataset/Job description.pdf'\n",
        "job_profile_text = extract_resume_text()\n",
        "stop_words = set(stopwords.words('english'))\n",
        "job_related_text = [word for word in job_profile_text.split() if word not in stop_words]"
      ],
      "id": "I-BIVrlj1TMW",
      "execution_count": 279,
      "outputs": []
    },
    {
      "cell_type": "markdown",
      "metadata": {
        "id": "f715KGOHITKd"
      },
      "source": [
        "####Function to extract only relevant words matching to the JD####"
      ],
      "id": "f715KGOHITKd"
    },
    {
      "cell_type": "code",
      "metadata": {
        "id": "I6oS00D8Q-3q"
      },
      "source": [
        "def extract_profile_matching_text(cleaned_text):\n",
        "  profile_matching_text = ''\n",
        "  for word in cleaned_text.split():\n",
        "    if word in job_related_text:\n",
        "      profile_matching_text = profile_matching_text + ' ' + word\n",
        "  return profile_matching_text"
      ],
      "id": "I6oS00D8Q-3q",
      "execution_count": 282,
      "outputs": []
    },
    {
      "cell_type": "markdown",
      "metadata": {
        "id": "oUfZl2ZPIdtg"
      },
      "source": [
        "####Extracting texts from all resumes####"
      ],
      "id": "oUfZl2ZPIdtg"
    },
    {
      "cell_type": "code",
      "metadata": {
        "id": "a56adb5b"
      },
      "source": [
        "extract_path = r'/content/drive/MyDrive/My Projects/Resume_Screening/dataset/trainResumes/'\n",
        "df['extracted_text'] = df['CandidateID'].apply(extract_resume_text)\n",
        "df['profile_matching_text'] = df['extracted_text'].apply(extract_profile_matching_text)\n",
        "df['profile_matching_text_length'] = df['profile_matching_text'].apply(lambda x:len(x.split()))"
      ],
      "id": "a56adb5b",
      "execution_count": 283,
      "outputs": []
    },
    {
      "cell_type": "code",
      "metadata": {
        "colab": {
          "base_uri": "https://localhost:8080/",
          "height": 204
        },
        "id": "63ce9722",
        "outputId": "f60e522e-45cc-4f47-82f9-3d246c55a968"
      },
      "source": [
        "df.head()"
      ],
      "id": "63ce9722",
      "execution_count": 284,
      "outputs": [
        {
          "output_type": "execute_result",
          "data": {
            "text/html": [
              "<div>\n",
              "<style scoped>\n",
              "    .dataframe tbody tr th:only-of-type {\n",
              "        vertical-align: middle;\n",
              "    }\n",
              "\n",
              "    .dataframe tbody tr th {\n",
              "        vertical-align: top;\n",
              "    }\n",
              "\n",
              "    .dataframe thead th {\n",
              "        text-align: right;\n",
              "    }\n",
              "</style>\n",
              "<table border=\"1\" class=\"dataframe\">\n",
              "  <thead>\n",
              "    <tr style=\"text-align: right;\">\n",
              "      <th></th>\n",
              "      <th>CandidateID</th>\n",
              "      <th>Match Percentage</th>\n",
              "      <th>extracted_text</th>\n",
              "      <th>profile_matching_text</th>\n",
              "      <th>profile_matching_text_length</th>\n",
              "    </tr>\n",
              "  </thead>\n",
              "  <tbody>\n",
              "    <tr>\n",
              "      <th>0</th>\n",
              "      <td>candidate_011</td>\n",
              "      <td>13.60</td>\n",
              "      <td>l i a m a n d r e w s fresher executive work e...</td>\n",
              "      <td>work experience responsible making engineerin...</td>\n",
              "      <td>17</td>\n",
              "    </tr>\n",
              "    <tr>\n",
              "      <th>1</th>\n",
              "      <td>candidate_113</td>\n",
              "      <td>36.63</td>\n",
              "      <td>ellie mackey fresher intern executive profile ...</td>\n",
              "      <td>work experience master degree learn machine l...</td>\n",
              "      <td>28</td>\n",
              "    </tr>\n",
              "    <tr>\n",
              "      <th>2</th>\n",
              "      <td>candidate_123</td>\n",
              "      <td>54.93</td>\n",
              "      <td>felix winston fresher about fresher having kno...</td>\n",
              "      <td>knowledge machine learning natural language p...</td>\n",
              "      <td>31</td>\n",
              "    </tr>\n",
              "    <tr>\n",
              "      <th>3</th>\n",
              "      <td>candidate_012</td>\n",
              "      <td>41.46</td>\n",
              "      <td>jimmy gartner da t a m a n a g e r professiona...</td>\n",
              "      <td>work data data data big data analytics analyt...</td>\n",
              "      <td>21</td>\n",
              "    </tr>\n",
              "    <tr>\n",
              "      <th>4</th>\n",
              "      <td>candidate_002</td>\n",
              "      <td>48.91</td>\n",
              "      <td>mason quadrado associate analyst about certifi...</td>\n",
              "      <td>data degree engineering experience data machi...</td>\n",
              "      <td>27</td>\n",
              "    </tr>\n",
              "  </tbody>\n",
              "</table>\n",
              "</div>"
            ],
            "text/plain": [
              "     CandidateID  ...  profile_matching_text_length\n",
              "0  candidate_011  ...                            17\n",
              "1  candidate_113  ...                            28\n",
              "2  candidate_123  ...                            31\n",
              "3  candidate_012  ...                            21\n",
              "4  candidate_002  ...                            27\n",
              "\n",
              "[5 rows x 5 columns]"
            ]
          },
          "metadata": {},
          "execution_count": 284
        }
      ]
    },
    {
      "cell_type": "code",
      "metadata": {
        "colab": {
          "base_uri": "https://localhost:8080/",
          "height": 52
        },
        "id": "XR7La0pmSWlX",
        "outputId": "5c192879-5411-417a-e54c-268e49bfa2de"
      },
      "source": [
        "df['profile_matching_text'][2]"
      ],
      "id": "XR7La0pmSWlX",
      "execution_count": 285,
      "outputs": [
        {
          "output_type": "execute_result",
          "data": {
            "application/vnd.google.colaboratory.intrinsic+json": {
              "type": "string"
            },
            "text/plain": [
              "' knowledge machine learning natural language processing learn work different data data machine learning data data science natural language processing data data analysis work experience data ml data neural networks data science'"
            ]
          },
          "metadata": {},
          "execution_count": 285
        }
      ]
    },
    {
      "cell_type": "code",
      "metadata": {
        "id": "H80JBhFFBs0_"
      },
      "source": [
        "requiredTarget = df['Match Percentage'].values"
      ],
      "id": "H80JBhFFBs0_",
      "execution_count": 286,
      "outputs": []
    },
    {
      "cell_type": "markdown",
      "metadata": {
        "id": "WXOpoDKHImNu"
      },
      "source": [
        "####Function to perform hot encoding on all the relevant extracted texts (Not used in training model)####"
      ],
      "id": "WXOpoDKHImNu"
    },
    {
      "cell_type": "code",
      "metadata": {
        "id": "S28o7cDs4-zx"
      },
      "source": [
        "def hot_encoded_profile_matching_text(df):\n",
        "  embedding_df = pd.DataFrame(np.zeros([df.shape[0],len(job_related_text)]),columns=job_related_text)\n",
        "  for idx in df.index:\n",
        "    for word in df.loc[idx,'profile_matching_text'].split():\n",
        "      embedding_df.loc[idx,word]=1\n",
        "  return embedding_df"
      ],
      "id": "S28o7cDs4-zx",
      "execution_count": 287,
      "outputs": []
    },
    {
      "cell_type": "markdown",
      "metadata": {
        "id": "N8447Rr8IzDz"
      },
      "source": [
        "####Creating a TFIDF vectorizer model and training it with the extracted train resume data####"
      ],
      "id": "N8447Rr8IzDz"
    },
    {
      "cell_type": "code",
      "metadata": {
        "id": "1aff9b25"
      },
      "source": [
        "# Using TFIDF for word embedding\n",
        "from sklearn.feature_extraction.text import TfidfVectorizer\n",
        "requiredText = df['extracted_text'].values\n",
        "word_vectorizer = TfidfVectorizer(\n",
        "    sublinear_tf=True,\n",
        "    stop_words='english',\n",
        "    max_features=19)\n",
        "word_vectorizer.fit(requiredText)\n",
        "WordFeatures_tfidf = word_vectorizer.transform(requiredText)"
      ],
      "id": "1aff9b25",
      "execution_count": 288,
      "outputs": []
    },
    {
      "cell_type": "code",
      "metadata": {
        "colab": {
          "base_uri": "https://localhost:8080/"
        },
        "id": "dsPPwV1kHuFt",
        "outputId": "cfbb5836-999e-4f77-ff67-414d5fabfb74"
      },
      "source": [
        "train_x = WordFeatures_tfidf.toarray()\n",
        "train_y = np.log(requiredTarget) # Taking log of match percentage as regression model can predict -ve result\n",
        "train_x.shape"
      ],
      "id": "dsPPwV1kHuFt",
      "execution_count": 289,
      "outputs": [
        {
          "output_type": "execute_result",
          "data": {
            "text/plain": [
              "(90, 19)"
            ]
          },
          "metadata": {},
          "execution_count": 289
        }
      ]
    },
    {
      "cell_type": "markdown",
      "metadata": {
        "id": "5d4B19-dKEPG"
      },
      "source": [
        "####Train Linear Regression Model####"
      ],
      "id": "5d4B19-dKEPG"
    },
    {
      "cell_type": "code",
      "metadata": {
        "colab": {
          "base_uri": "https://localhost:8080/"
        },
        "id": "66b6ca6f",
        "outputId": "3fee4611-5004-4b11-8177-b2f0edc5c22b"
      },
      "source": [
        "# Training Linear Regression Model for prediction of matching percentage\n",
        "from sklearn.linear_model import LinearRegression\n",
        "from sklearn.metrics import mean_squared_error\n",
        "model = LinearRegression()\n",
        "\n",
        "error = cross_validate(model, train_x, train_y, cv=5, scoring='neg_mean_squared_error', return_train_score=True)\n",
        "\n",
        "# Train Error on train dataset\n",
        "train_error = max(0, abs(np.mean(error['train_score'])))\n",
        "print('Linear Regression Train Error : ', train_error)\n",
        "test_error = max(0, abs(np.mean(error['test_score'])))\n",
        "print('Linear Regression Test Error : ', test_error)"
      ],
      "id": "66b6ca6f",
      "execution_count": 291,
      "outputs": [
        {
          "output_type": "stream",
          "name": "stdout",
          "text": [
            "Linear Regression Train Error :  0.1205782476259925\n",
            "Linear Regression Test Error :  0.221502397305608\n"
          ]
        }
      ]
    },
    {
      "cell_type": "markdown",
      "metadata": {
        "id": "8zkZ0vjJMlpt"
      },
      "source": [
        "####Train Ridge Regression Model####"
      ],
      "id": "8zkZ0vjJMlpt"
    },
    {
      "cell_type": "code",
      "metadata": {
        "colab": {
          "base_uri": "https://localhost:8080/"
        },
        "id": "LPnbT8k9MkyM",
        "outputId": "3046bc41-6cb4-435c-fb96-895e33d7fed2"
      },
      "source": [
        "# Training Ridge Regression Model for prediction of matching percentage\n",
        "from sklearn.linear_model import Ridge\n",
        "ridge_model = Ridge()\n",
        "\n",
        "# predict the target on the train dataset\n",
        "error = cross_validate(ridge_model, train_x, train_y, cv=5, scoring='neg_mean_squared_error', return_train_score=True)\n",
        "\n",
        "# Train Error on train dataset\n",
        "train_error = max(0, abs(np.mean(error['train_score'])))\n",
        "print('Ridge Regression Train Error : ', train_error)\n",
        "test_error = max(0, abs(np.mean(error['test_score'])))\n",
        "print('Ridge Regression Test Error : ', test_error)"
      ],
      "id": "LPnbT8k9MkyM",
      "execution_count": 292,
      "outputs": [
        {
          "output_type": "stream",
          "name": "stdout",
          "text": [
            "Ridge Regression Train Error :  0.17226463879536644\n",
            "Ridge Regression Test Error :  0.23538048843760612\n"
          ]
        }
      ]
    },
    {
      "cell_type": "markdown",
      "metadata": {
        "id": "ukEwKZuXPBTQ"
      },
      "source": [
        "####Train Lasso Regression Model####"
      ],
      "id": "ukEwKZuXPBTQ"
    },
    {
      "cell_type": "code",
      "metadata": {
        "colab": {
          "base_uri": "https://localhost:8080/"
        },
        "id": "-GrokqbBO8PC",
        "outputId": "0827833e-f4bc-44f5-e3d4-ee5419aaf64d"
      },
      "source": [
        "# Training Lasso Regression Model for prediction of matching percentage\n",
        "from sklearn.linear_model import Lasso\n",
        "lasso_model = Lasso()\n",
        "\n",
        "# predict the target on the train dataset\n",
        "error = cross_validate(lasso_model, train_x, train_y, cv=5, scoring='neg_mean_squared_error', return_train_score=True)\n",
        "\n",
        "# Train Error on train dataset\n",
        "train_error = max(0, abs(np.mean(error['train_score'])))\n",
        "print('Lasso Regression Train Error : ', train_error)\n",
        "test_error = max(0, abs(np.mean(error['test_score'])))\n",
        "print('Lasso Regression Test Error : ', test_error)"
      ],
      "id": "-GrokqbBO8PC",
      "execution_count": 293,
      "outputs": [
        {
          "output_type": "stream",
          "name": "stdout",
          "text": [
            "Lasso Regression Train Error :  0.40913985758732474\n",
            "Lasso Regression Test Error :  0.4180960645634017\n"
          ]
        }
      ]
    },
    {
      "cell_type": "markdown",
      "metadata": {
        "id": "GwAmjNajcQa_"
      },
      "source": [
        "####Train Random Forest Regression Model####"
      ],
      "id": "GwAmjNajcQa_"
    },
    {
      "cell_type": "code",
      "metadata": {
        "colab": {
          "base_uri": "https://localhost:8080/"
        },
        "id": "xu_BV7k2cB50",
        "outputId": "252609a6-976d-4504-c33a-e0662fe3debd"
      },
      "source": [
        "# Training Random Forest Regression Model for prediction of matching percentage\n",
        "from sklearn.ensemble import RandomForestRegressor\n",
        "from sklearn.metrics import mean_squared_log_error\n",
        "rf_model = RandomForestRegressor(n_estimators=10, random_state=2)\n",
        "\n",
        "# predict the target on the train dataset\n",
        "error = cross_validate(rf_model,train_x,train_y,cv=5,scoring='neg_mean_squared_error', return_train_score=True)\n",
        "\n",
        "# Train Error on train dataset\n",
        "train_error = max(0, abs(np.mean(error['train_score'])))\n",
        "print('Random Forest Regression Train Error : ', train_error)\n",
        "test_error = max(0, abs(np.mean(error['test_score'])))\n",
        "print('Random Forest Regression Test Error : ', test_error)"
      ],
      "id": "xu_BV7k2cB50",
      "execution_count": 294,
      "outputs": [
        {
          "output_type": "stream",
          "name": "stdout",
          "text": [
            "Random Forest Regression Train Error :  0.0567053317318811\n",
            "Random Forest Regression Test Error :  0.27623565427237584\n"
          ]
        }
      ]
    },
    {
      "cell_type": "markdown",
      "metadata": {
        "id": "cOUKuO9cJPTg"
      },
      "source": [
        "####Train Ada Boost Regression Model####"
      ],
      "id": "cOUKuO9cJPTg"
    },
    {
      "cell_type": "code",
      "metadata": {
        "colab": {
          "base_uri": "https://localhost:8080/"
        },
        "id": "BlshIJ0a-z_m",
        "outputId": "b5af0c51-0759-416e-a71d-8bde2a7f52a6"
      },
      "source": [
        "# Training Ada Boost Regression Model for prediction of matching percentage\n",
        "from sklearn.ensemble import AdaBoostRegressor\n",
        "from sklearn.metrics import mean_squared_log_error\n",
        "ada_model = AdaBoostRegressor(n_estimators=10, random_state=2)\n",
        "\n",
        "# predict the target on the train dataset\n",
        "error = cross_validate(ada_model,train_x,train_y,cv=5,scoring='neg_mean_squared_error', return_train_score=True)\n",
        "\n",
        "# Train Error on train dataset\n",
        "train_error = max(0, abs(np.mean(error['train_score'])))\n",
        "print('Ada Boost Regression Train Error : ', train_error)\n",
        "test_error = max(0, abs(np.mean(error['test_score'])))\n",
        "print('Ada Boost Regression Test Error : ', test_error)"
      ],
      "id": "BlshIJ0a-z_m",
      "execution_count": 295,
      "outputs": [
        {
          "output_type": "stream",
          "name": "stdout",
          "text": [
            "Ada Boost Regression Train Error :  0.028572511083718923\n",
            "Ada Boost Regression Test Error :  0.3438287525091277\n"
          ]
        }
      ]
    },
    {
      "cell_type": "markdown",
      "metadata": {
        "id": "NCKD5Ep_JTxf"
      },
      "source": [
        "####Initializing Final Model based on model training performances####"
      ],
      "id": "NCKD5Ep_JTxf"
    },
    {
      "cell_type": "code",
      "metadata": {
        "colab": {
          "base_uri": "https://localhost:8080/"
        },
        "id": "QdfcxFjJajOt",
        "outputId": "bd2756c9-8f65-49b2-95d1-7bf715929912"
      },
      "source": [
        "final_model = ridge_model\n",
        "final_model.fit(train_x,train_y)"
      ],
      "id": "QdfcxFjJajOt",
      "execution_count": 296,
      "outputs": [
        {
          "output_type": "execute_result",
          "data": {
            "text/plain": [
              "Ridge(alpha=1.0, copy_X=True, fit_intercept=True, max_iter=None,\n",
              "      normalize=False, random_state=None, solver='auto', tol=0.001)"
            ]
          },
          "metadata": {},
          "execution_count": 296
        }
      ]
    },
    {
      "cell_type": "code",
      "metadata": {
        "id": "7bj2_oJVTTZI"
      },
      "source": [
        ""
      ],
      "id": "7bj2_oJVTTZI",
      "execution_count": 296,
      "outputs": []
    },
    {
      "cell_type": "markdown",
      "metadata": {
        "id": "KJlAXSpTJ8er"
      },
      "source": [
        "###Predict Test Data###"
      ],
      "id": "KJlAXSpTJ8er"
    },
    {
      "cell_type": "code",
      "metadata": {
        "colab": {
          "base_uri": "https://localhost:8080/",
          "height": 204
        },
        "id": "O_oUtosnWjY1",
        "outputId": "78af6d2c-d93f-40d9-a654-4d23c68cf260"
      },
      "source": [
        "# Reading the test file with candidate Ids\n",
        "test_data_original = pd.read_csv('/content/drive/MyDrive/My Projects/Resume_Screening/dataset/test.csv')\n",
        "test_data = test_data_original.copy()\n",
        "test_data.head()"
      ],
      "id": "O_oUtosnWjY1",
      "execution_count": 297,
      "outputs": [
        {
          "output_type": "execute_result",
          "data": {
            "text/html": [
              "<div>\n",
              "<style scoped>\n",
              "    .dataframe tbody tr th:only-of-type {\n",
              "        vertical-align: middle;\n",
              "    }\n",
              "\n",
              "    .dataframe tbody tr th {\n",
              "        vertical-align: top;\n",
              "    }\n",
              "\n",
              "    .dataframe thead th {\n",
              "        text-align: right;\n",
              "    }\n",
              "</style>\n",
              "<table border=\"1\" class=\"dataframe\">\n",
              "  <thead>\n",
              "    <tr style=\"text-align: right;\">\n",
              "      <th></th>\n",
              "      <th>CandidateID</th>\n",
              "    </tr>\n",
              "  </thead>\n",
              "  <tbody>\n",
              "    <tr>\n",
              "      <th>0</th>\n",
              "      <td>candidate_014</td>\n",
              "    </tr>\n",
              "    <tr>\n",
              "      <th>1</th>\n",
              "      <td>candidate_098</td>\n",
              "    </tr>\n",
              "    <tr>\n",
              "      <th>2</th>\n",
              "      <td>candidate_075</td>\n",
              "    </tr>\n",
              "    <tr>\n",
              "      <th>3</th>\n",
              "      <td>candidate_016</td>\n",
              "    </tr>\n",
              "    <tr>\n",
              "      <th>4</th>\n",
              "      <td>candidate_131</td>\n",
              "    </tr>\n",
              "  </tbody>\n",
              "</table>\n",
              "</div>"
            ],
            "text/plain": [
              "     CandidateID\n",
              "0  candidate_014\n",
              "1  candidate_098\n",
              "2  candidate_075\n",
              "3  candidate_016\n",
              "4  candidate_131"
            ]
          },
          "metadata": {},
          "execution_count": 297
        }
      ]
    },
    {
      "cell_type": "code",
      "metadata": {
        "colab": {
          "base_uri": "https://localhost:8080/"
        },
        "id": "acd0fee5",
        "outputId": "e475d5a7-9a1e-483b-a2a6-d77916bf1752"
      },
      "source": [
        "# Extracting resume text from test data resume\n",
        "extract_path = r'/content/drive/MyDrive/My Projects/Resume_Screening/dataset/testResumes/'\n",
        "test_data['extracted_text'] = test_data['CandidateID'].apply(extract_resume_text)\n",
        "requiredText = test_data['extracted_text'].values\n",
        "test_x = word_vectorizer.transform(requiredText).toarray()\n",
        "test_x.shape"
      ],
      "id": "acd0fee5",
      "execution_count": 298,
      "outputs": [
        {
          "output_type": "execute_result",
          "data": {
            "text/plain": [
              "(60, 19)"
            ]
          },
          "metadata": {},
          "execution_count": 298
        }
      ]
    },
    {
      "cell_type": "code",
      "metadata": {
        "id": "b511bca5"
      },
      "source": [
        "# predict the target on the test dataset\n",
        "predict_test = np.exp(final_model.predict(test_x))"
      ],
      "id": "b511bca5",
      "execution_count": 299,
      "outputs": []
    },
    {
      "cell_type": "code",
      "metadata": {
        "colab": {
          "base_uri": "https://localhost:8080/",
          "height": 204
        },
        "id": "1f44455c",
        "outputId": "b1bce23d-91fe-473b-c1fb-3d908b257a5f"
      },
      "source": [
        "submission_df = test_data_original.copy()\n",
        "submission_df['Match Percentage'] = predict_test\n",
        "submission_df.head()"
      ],
      "id": "1f44455c",
      "execution_count": 300,
      "outputs": [
        {
          "output_type": "execute_result",
          "data": {
            "text/html": [
              "<div>\n",
              "<style scoped>\n",
              "    .dataframe tbody tr th:only-of-type {\n",
              "        vertical-align: middle;\n",
              "    }\n",
              "\n",
              "    .dataframe tbody tr th {\n",
              "        vertical-align: top;\n",
              "    }\n",
              "\n",
              "    .dataframe thead th {\n",
              "        text-align: right;\n",
              "    }\n",
              "</style>\n",
              "<table border=\"1\" class=\"dataframe\">\n",
              "  <thead>\n",
              "    <tr style=\"text-align: right;\">\n",
              "      <th></th>\n",
              "      <th>CandidateID</th>\n",
              "      <th>Match Percentage</th>\n",
              "    </tr>\n",
              "  </thead>\n",
              "  <tbody>\n",
              "    <tr>\n",
              "      <th>0</th>\n",
              "      <td>candidate_014</td>\n",
              "      <td>25.435495</td>\n",
              "    </tr>\n",
              "    <tr>\n",
              "      <th>1</th>\n",
              "      <td>candidate_098</td>\n",
              "      <td>19.328429</td>\n",
              "    </tr>\n",
              "    <tr>\n",
              "      <th>2</th>\n",
              "      <td>candidate_075</td>\n",
              "      <td>29.613314</td>\n",
              "    </tr>\n",
              "    <tr>\n",
              "      <th>3</th>\n",
              "      <td>candidate_016</td>\n",
              "      <td>30.310077</td>\n",
              "    </tr>\n",
              "    <tr>\n",
              "      <th>4</th>\n",
              "      <td>candidate_131</td>\n",
              "      <td>26.924460</td>\n",
              "    </tr>\n",
              "  </tbody>\n",
              "</table>\n",
              "</div>"
            ],
            "text/plain": [
              "     CandidateID  Match Percentage\n",
              "0  candidate_014         25.435495\n",
              "1  candidate_098         19.328429\n",
              "2  candidate_075         29.613314\n",
              "3  candidate_016         30.310077\n",
              "4  candidate_131         26.924460"
            ]
          },
          "metadata": {},
          "execution_count": 300
        }
      ]
    },
    {
      "cell_type": "code",
      "metadata": {
        "colab": {
          "base_uri": "https://localhost:8080/",
          "height": 35
        },
        "id": "xyFFZlVsXkYY",
        "outputId": "272a2315-b57e-434e-f3a2-8fe2a7c094d0"
      },
      "source": [
        "import time\n",
        "secondsSinceEpoch = time.time()\n",
        "timeObj = time.localtime(secondsSinceEpoch)\n",
        "timestamp = f'{timeObj.tm_mday}_{timeObj.tm_mon}_{timeObj.tm_year}_{timeObj.tm_hour}{timeObj.tm_min}'\n",
        "final_submission_name = 'final_submissions_' + timestamp + '.csv'\n",
        "final_submission_name"
      ],
      "id": "xyFFZlVsXkYY",
      "execution_count": 301,
      "outputs": [
        {
          "output_type": "execute_result",
          "data": {
            "application/vnd.google.colaboratory.intrinsic+json": {
              "type": "string"
            },
            "text/plain": [
              "'final_submissions_7_9_2021_1854.csv'"
            ]
          },
          "metadata": {},
          "execution_count": 301
        }
      ]
    },
    {
      "cell_type": "code",
      "metadata": {
        "id": "vxnce7mWXr4Q"
      },
      "source": [
        "submission_df.to_csv('/content/drive/MyDrive/My Projects/Resume_Screening/'+final_submission_name,index=False)"
      ],
      "id": "vxnce7mWXr4Q",
      "execution_count": 302,
      "outputs": []
    },
    {
      "cell_type": "code",
      "metadata": {
        "id": "lLoOnQeFYWGa"
      },
      "source": [
        ""
      ],
      "id": "lLoOnQeFYWGa",
      "execution_count": 302,
      "outputs": []
    }
  ]
}